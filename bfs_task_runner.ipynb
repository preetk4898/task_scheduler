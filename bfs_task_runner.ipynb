{
 "cells": [
  {
   "attachments": {},
   "cell_type": "markdown",
   "metadata": {},
   "source": [
    "# Bighat Biosciences\n",
    "## Take Home Technical Screen\n",
    "\n",
    "---"
   ]
  },
  {
   "attachments": {},
   "cell_type": "markdown",
   "metadata": {},
   "source": [
    "# Task Runner \n",
    "\n",
    "Written by Preet Kaur \n",
    "\n",
    "Resources used: \n",
    "- Stackover Flow \n",
    "- Geeks for Geeks\n",
    "\n",
    "---"
   ]
  },
  {
   "attachments": {},
   "cell_type": "markdown",
   "metadata": {},
   "source": [
    "### Import json file"
   ]
  },
  {
   "cell_type": "code",
   "execution_count": 2,
   "metadata": {},
   "outputs": [],
   "source": [
    "import json\n",
    "from collections import defaultdict\n",
    "\n",
    "file_path = input(\"Enter path to JSON file or file name:\")\n",
    "\n",
    "with open(file_path, \"r\") as dag_file: \n",
    "    dag_dict = json.loads(dag_file.read())"
   ]
  },
  {
   "cell_type": "code",
   "execution_count": 3,
   "metadata": {},
   "outputs": [
    {
     "name": "stdout",
     "output_type": "stream",
     "text": [
      "defaultdict(<class 'list'>, {'A': [('B', 2), ('C', 5), ('D', 7)], 'B': [('E', 3)], 'C': [('E', 1)], 'D': [None], 'E': [None]})\n"
     ]
    }
   ],
   "source": [
    "'''\n",
    "Make a weighted adjacency list \n",
    "'''\n",
    "from collections import defaultdict\n",
    "\n",
    "adj_list = defaultdict(list)\n",
    "start_node = ''\n",
    "\n",
    "for key in dag_dict:\n",
    "    if len(dag_dict[key]) == 2:\n",
    "        start_node = key \n",
    "    if dag_dict[key]['edges'] != {}:\n",
    "        for nested_key, nested_value in dag_dict[key]['edges'].items():\n",
    "            adj_list[key].append((nested_key, nested_value))\n",
    "    else:\n",
    "        adj_list[key].append((None))\n",
    "\n",
    "\n",
    "print(adj_list)"
   ]
  },
  {
   "cell_type": "code",
   "execution_count": 44,
   "metadata": {},
   "outputs": [
    {
     "name": "stdout",
     "output_type": "stream",
     "text": [
      "A [('B', 2), ('C', 5), ('D', 7)]\n",
      "defaultdict(<class 'int'>, {'A': 0, 'B': 2})\n",
      "defaultdict(<class 'int'>, {'A': 0, 'B': 2, 'C': 5})\n",
      "defaultdict(<class 'int'>, {'A': 0, 'B': 2, 'C': 5, 'D': 7})\n",
      "B [('E', 3)]\n",
      "defaultdict(<class 'int'>, {'A': 0, 'B': 2, 'C': 5, 'D': 7, 'E': 5})\n",
      "C [('E', 1)]\n",
      "defaultdict(<class 'int'>, {'A': 0, 'B': 2, 'C': 5, 'D': 7, 'E': 6})\n",
      "D [None]\n",
      "E [None]\n",
      "defaultdict(<class 'int'>, {'A': 0, 'B': 2, 'C': 5, 'D': 7, 'E': 6})\n"
     ]
    }
   ],
   "source": [
    "''' \n",
    "Traverse the adjacency list and determine time needed from start to print 'current' vertex\n",
    "'''\n",
    "time_for_node = defaultdict(int)\n",
    "\n",
    "queue = []\n",
    "queue.append(start_node)\n",
    "time_for_node = defaultdict(int)\n",
    "time_for_node[start_node]\n",
    "\n",
    "current = ''\n",
    "\n",
    "for key, value in adj_list.items():\n",
    "    print(key, value)\n",
    "    current = queue[0]\n",
    "    for dest_vertex in adj_list[key]:\n",
    "        if dest_vertex is not None:\n",
    "            time_for_node[dest_vertex[0]] = time_for_node[current] + dest_vertex[1]\n",
    "            print(time_for_node)\n",
    "            queue.append(dest_vertex[0])\n",
    "        else: pass\n",
    "    queue.pop(0)\n",
    "\n",
    "\n",
    "print(time_for_node)"
   ]
  },
  {
   "cell_type": "code",
   "execution_count": 46,
   "metadata": {},
   "outputs": [
    {
     "name": "stdout",
     "output_type": "stream",
     "text": [
      "[('A', 0), ('B', 2), ('C', 5), ('E', 6), ('D', 7)]\n"
     ]
    }
   ],
   "source": [
    "''' \n",
    "Sort ordered dictionary by the values -- ASC\n",
    "'''\n",
    "\n",
    "sorted_by_time = sorted(time_for_node.items(), key = lambda x:x[1])\n",
    "print(sorted_by_time)\n"
   ]
  },
  {
   "cell_type": "code",
   "execution_count": 77,
   "metadata": {},
   "outputs": [
    {
     "name": "stdout",
     "output_type": "stream",
     "text": [
      "A\n",
      "B\n",
      "C\n",
      "E\n",
      "D\n"
     ]
    }
   ],
   "source": [
    "import time\n",
    "import datetime\n",
    "\n",
    "start_time = time.time()\n",
    "\n",
    "for node in sorted_by_time: \n",
    "    if round((time.time()) - start_time, 1) == node[1]:\n",
    "        print(node[0])\n",
    "    elif round((time.time()) - start_time, 1) < node[1]:\n",
    "        time.sleep(node[1] - round((time.time()) - start_time, 1))\n",
    "        print(node[0])\n",
    "    else: \n",
    "        print(node[0])\n",
    "\n"
   ]
  },
  {
   "cell_type": "code",
   "execution_count": 301,
   "metadata": {},
   "outputs": [
    {
     "name": "stdout",
     "output_type": "stream",
     "text": [
      "defaultdict(<class 'int'>, {'A': 0, 'B': 0, 'C': 0, 'D': 0, 'E': 0})\n"
     ]
    }
   ],
   "source": [
    "'''\n",
    "Create dict to store number of incoming edges. should initially be set to zero \n",
    "'''\n",
    "num_incoming_vert = defaultdict(int) #create a dictionary to store the number of incoming edge for all vertices\n",
    "vertex_visited = defaultdict(bool) #create a visited dict to store whether a vertex has been visited or not\n",
    "\n",
    "for key in dag_dict.keys():\n",
    "    num_incoming_vert[key] \n",
    "    vertex_visited[key]\n",
    "\n",
    "print(num_incoming_vert)"
   ]
  },
  {
   "cell_type": "code",
   "execution_count": 302,
   "metadata": {},
   "outputs": [
    {
     "name": "stdout",
     "output_type": "stream",
     "text": [
      "defaultdict(<class 'int'>, {'A': 0, 'B': 1, 'C': 1, 'D': 1, 'E': 2})\n"
     ]
    }
   ],
   "source": [
    "'''\n",
    "Traverse adjcency list and determine number of edges incoming for each vertex and updated the dictionary accordingly\n",
    "'''\n",
    "\n",
    "for vertex in adj_list.keys():\n",
    "    for inc_edge in adj_list[vertex]:\n",
    "        if inc_edge != None:\n",
    "            num_incoming_vert[inc_edge[0]] += 1\n",
    "        else: \n",
    "            pass\n",
    "\n",
    "print(num_incoming_vert)\n"
   ]
  },
  {
   "cell_type": "code",
   "execution_count": 306,
   "metadata": {},
   "outputs": [
    {
     "name": "stdout",
     "output_type": "stream",
     "text": [
      "0\n",
      "1\n",
      "1\n",
      "1\n",
      "2\n",
      "-2\n",
      "-2\n",
      "-2\n",
      "1\n"
     ]
    }
   ],
   "source": [
    "vert_queue = []\n",
    "vert_queue.append(start_node)\n",
    "\n",
    "for vertex in num_incoming_vert.keys():\n",
    "    print(num_incoming_vert[vertex])\n",
    "    if num_incoming_vert[vertex] == 0 and vertex != start_node:\n",
    "        vert_queue.append(vertex)\n",
    "\n",
    "ordered_tasks = []\n",
    "count = 0 \n",
    "\n",
    "while vert_queue: \n",
    "    src = vert_queue.pop(0)\n",
    "    ordered_tasks.append(src)\n",
    "\n",
    "    for neighbors in adj_list[src]:\n",
    "        num_incoming_vert[neighbors] -= 1\n",
    "        if num_incoming_vert[neighbors] == 0: \n",
    "            vert_queue.append(neighbors)\n",
    "            vertex_visited[neighbors] = True\n",
    "\n",
    "    count += 1\n",
    "\n",
    "print(count)\n",
    "\n",
    "# if count != len(adj_list.keys()):\n",
    "#     print('The scheduler is unable to process the tasks. Please review all dependencies.')\n",
    "# else: \n",
    "#     print(ordered_tasks)"
   ]
  },
  {
   "cell_type": "code",
   "execution_count": 298,
   "metadata": {},
   "outputs": [
    {
     "name": "stdout",
     "output_type": "stream",
     "text": [
      "The scheduler is unable to process the tasks. Please review all dependencies.\n"
     ]
    }
   ],
   "source": [
    "ordered_tasks = []\n",
    "count = 0 \n",
    "\n",
    "while vert_queue: \n",
    "    src = vert_queue.pop(0)\n",
    "    ordered_tasks.append(src)\n",
    "\n",
    "    for neighbors in adj_list[src]:\n",
    "        num_incoming_vert[neighbors] -= 1\n",
    "        if num_incoming_vert[neighbors] == 0: \n",
    "            vert_queue.append(neighbors)\n",
    "            vertex_visited[neighbors] = True\n",
    "\n",
    "    count += 1\n",
    "\n",
    "if count != len(adj_list.keys()):\n",
    "    print('The scheduler is unable to process the tasks. Please review all dependencies.')\n",
    "else: \n",
    "    print(ordered_tasks)\n",
    "    \n"
   ]
  }
 ],
 "metadata": {
  "kernelspec": {
   "display_name": "Python 3",
   "language": "python",
   "name": "python3"
  },
  "language_info": {
   "codemirror_mode": {
    "name": "ipython",
    "version": 3
   },
   "file_extension": ".py",
   "mimetype": "text/x-python",
   "name": "python",
   "nbconvert_exporter": "python",
   "pygments_lexer": "ipython3",
   "version": "3.7.4"
  },
  "orig_nbformat": 4,
  "vscode": {
   "interpreter": {
    "hash": "aee8b7b246df8f9039afb4144a1f6fd8d2ca17a180786b69acc140d282b71a49"
   }
  }
 },
 "nbformat": 4,
 "nbformat_minor": 2
}
