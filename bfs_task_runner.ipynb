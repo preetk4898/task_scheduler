{
 "cells": [
  {
   "attachments": {},
   "cell_type": "markdown",
   "metadata": {},
   "source": [
    "# Bighat Biosciences\n",
    "## Take Home Technical Screen\n",
    "\n",
    "---"
   ]
  },
  {
   "attachments": {},
   "cell_type": "markdown",
   "metadata": {},
   "source": [
    "# Task Runner \n",
    "\n",
    "Written by Preet Kaur \n",
    "\n",
    "Resources used: \n",
    "- Stackover Flow \n",
    "- Geeks for Geeks\n",
    "\n",
    "---"
   ]
  },
  {
   "attachments": {},
   "cell_type": "markdown",
   "metadata": {},
   "source": [
    "### Import json file"
   ]
  },
  {
   "cell_type": "code",
   "execution_count": 98,
   "metadata": {},
   "outputs": [],
   "source": [
    "import json\n",
    "from collections import defaultdict\n",
    "import sys\n",
    "\n",
    "file_path = input(\"Enter path to JSON file or file name:\")\n",
    "\n",
    "with open(file_path, \"r\") as dag_file: \n",
    "\n",
    "    try: \n",
    "        dag_dict = json.loads(dag_file.read()) #make sure the input it properly formated in JSON\n",
    "    except ValueError as e: \n",
    "        print(f\"JSON file is invalid. Please check input. Error: {e}\")\n"
   ]
  },
  {
   "cell_type": "code",
   "execution_count": 99,
   "metadata": {},
   "outputs": [
    {
     "name": "stdout",
     "output_type": "stream",
     "text": [
      "defaultdict(<class 'list'>, {'A': [('B', 3), ('C', 2), ('D', 1)], 'B': [('E', 5)], 'C': [('E', 6)], 'D': [('E', 4)], 'E': [('F', 8), ('G', 9)], 'F': [('E', 4)], 'G': [('D', 3)]})\n"
     ]
    }
   ],
   "source": [
    "'''\n",
    "Make a weighted adjacency list \n",
    "'''\n",
    "from collections import defaultdict\n",
    "\n",
    "adj_list = defaultdict(list)\n",
    "start_node = ''\n",
    "\n",
    "for key in dag_dict:\n",
    "    if len(dag_dict[key]) == 2:\n",
    "        start_node = key \n",
    "    if dag_dict[key]['edges'] != {}:\n",
    "        for nested_key, nested_value in dag_dict[key]['edges'].items():\n",
    "            adj_list[key].append((nested_key, nested_value))\n",
    "    else:\n",
    "        adj_list[key].append(None)\n",
    "\n",
    "\n",
    "print(adj_list)"
   ]
  },
  {
   "cell_type": "code",
   "execution_count": null,
   "metadata": {},
   "outputs": [],
   "source": [
    "''' \n",
    "Check if Cycle exists\n",
    "'''\n",
    "num_incoming_vert = defaultdict(int) #create a dictionary to store the number of incoming edge for all vertices\n",
    "vertex_visited = defaultdict(bool) #create a visited dict to store whether a vertex has been visited or not\n",
    "\n",
    "for key in adj_list.keys():\n",
    "    num_incoming_vert[key] \n",
    "    vertex_visited[key]\n",
    "\n",
    "for vertex in adj_list.keys():\n",
    "    for inc_edge in adj_list[vertex]:\n",
    "        if inc_edge != None:\n",
    "            num_incoming_vert[inc_edge[0]] += 1\n",
    "        else: \n",
    "            pass\n",
    "\n",
    "print(num_incoming_vert)\n",
    "print(adj_list)"
   ]
  },
  {
   "cell_type": "code",
   "execution_count": null,
   "metadata": {},
   "outputs": [],
   "source": [
    "''' \n",
    "Create another queue and add any vertices with in degree of zero \n",
    "'''\n",
    "queue_2 = []\n",
    "queue_2.append(start_node)\n",
    "\n",
    "for key in num_incoming_vert:\n",
    "    if num_incoming_vert[key] == 0 and not start_node:\n",
    "        queue_2.append(key)\n",
    "\n",
    "        "
   ]
  },
  {
   "cell_type": "code",
   "execution_count": null,
   "metadata": {},
   "outputs": [],
   "source": [
    "''' \n",
    "Strat checking the queue\n",
    "'''\n",
    "time_for_node = defaultdict(int)\n",
    "time_for_node[start_node]\n",
    "num_visited = 0\n",
    "\n",
    "while(queue_2): \n",
    "    # print(queue_2)\n",
    "    current_2 = queue_2.pop(0)\n",
    "    \n",
    "\n",
    "    if adj_list[current_2] == [None] and num_incoming_vert[current_2] == 0:\n",
    "        temp = queue_2.pop(0)\n",
    "    else:\n",
    "        for vert_edge,weight in adj_list[current_2]:\n",
    "            # print(weight)\n",
    "            for node, in vert_edge:\n",
    "                num_incoming_vert[node[0]] -= 1 \n",
    "                # print(vert_edge)\n",
    "                time_for_node[node[0]] = time_for_node[current_2] + weight\n",
    "\n",
    "            if num_incoming_vert[node[0]] == 0:\n",
    "                queue_2.append(node[0])\n",
    "                \n",
    "            num_visited += 1\n",
    "\n",
    "if num_visited != len(adj_list.keys()):\n",
    "    print(\"There is a circular dependency in your task list. Please review.\")\n",
    "\n",
    "print(queue_2)\n",
    "print(time_for_node)"
   ]
  },
  {
   "cell_type": "code",
   "execution_count": null,
   "metadata": {},
   "outputs": [],
   "source": [
    "''' \n",
    "Traverse the adjacency list and determine time needed from start to print 'current' vertex\n",
    "'''\n",
    "time_for_node = defaultdict(int)\n",
    "\n",
    "queue = []\n",
    "queue.append(start_node)\n",
    "time_for_node = defaultdict(int)\n",
    "time_for_node[start_node]\n",
    "\n",
    "current = ''\n",
    "\n",
    "for key in adj_list.keys():\n",
    "    current = queue[0]\n",
    "    # print(key)\n",
    "    # print(current)\n",
    "    for dest_vertex in adj_list[key]:\n",
    "        print(dest_vertex)\n",
    "        if dest_vertex is not None:\n",
    "            time_for_node[dest_vertex[0]] = time_for_node[current] + dest_vertex[1]\n",
    "            # print(time_for_node)\n",
    "            queue.append(dest_vertex[0])\n",
    "    queue.pop(0)\n",
    "\n",
    "print(time_for_node)\n",
    "print(queue)"
   ]
  },
  {
   "cell_type": "code",
   "execution_count": 100,
   "metadata": {},
   "outputs": [
    {
     "name": "stdout",
     "output_type": "stream",
     "text": [
      "False\n",
      "defaultdict(<class 'int'>, {'A': 0, 'B': 3, 'C': 2, 'D': 1, 'E': 8})\n",
      "False\n"
     ]
    }
   ],
   "source": [
    "num_incoming_vert = defaultdict(int) #create a dictionary to track the number of dependencies of each task \n",
    "\n",
    "for vertex in adj_list.keys():\n",
    "    num_incoming_vert[vertex] #populate the dict\n",
    "\n",
    "for vertex in adj_list.keys():\n",
    "    for inc_edge in adj_list[vertex]: #iterate through the dependents of a task\n",
    "        if inc_edge != None:\n",
    "            num_incoming_vert[inc_edge[0]] += 1 #if a dependent shows up in the adjacency, increment it's number of dependencies by 1\n",
    "        else: \n",
    "            pass\n",
    "queue = []\n",
    "queue.append(start_node) #build queue and append the start node. \n",
    "\n",
    "\n",
    "time_for_node = defaultdict(int) #record time for each node\n",
    "time_for_node[start_node]\n",
    "\n",
    "#populate the queue with any other tasks that dont have any dependences \n",
    "for node in num_incoming_vert: \n",
    "    if num_incoming_vert[node] == 0 and not start_node:\n",
    "        queue.append(node)\n",
    "\n",
    "#start working through the queue to determine if there are any cycles \n",
    "\n",
    "num_visited = 0 #initialize counter to ensure all vertices are visited \n",
    "\n",
    "visited = defaultdict(bool)\n",
    "\n",
    "for vertex in adj_list.keys():\n",
    "    visited[vertex]\n",
    "\n",
    "while(queue):\n",
    "   \n",
    "    current_node = queue.pop(0) #FIFO approach \n",
    "    \n",
    "    #if all vertices in queue have been visited and if the vertex doesn't have any dependents, pop it from the queue\n",
    "    if adj_list[current_node] == [None] and num_incoming_vert[current_node] == 0:\n",
    "        visited[current_node] = True\n",
    "    elif visited[current_node] == False: #if the vert has dependents, cycle through all of them and update the number of incoming verts by 1 bc they have now been visited\n",
    "        for vert,weight in adj_list[current_node]:\n",
    "            for node in vert: \n",
    "                num_incoming_vert[node[0]] -= 1\n",
    "                time_for_node[node[0]] = time_for_node[current_node] + weight\n",
    "            if num_incoming_vert[node[0]] == 0: \n",
    "                queue.append(node[0])\n",
    "\n",
    "            # if visited[current_node] != True:\n",
    "            visited[current_node] = True\n",
    "            \n",
    "            # num_visited += 1 \n",
    "                \n",
    "\n",
    "check = len(set(visited.values())) == True\n",
    "print(check)\n",
    "print(time_for_node)\n",
    "\n",
    "if check == True: #the number of visited vertices has to be equal to the number of vertices in the task runner for it to be acyclic. \n",
    "    print(True)\n",
    "else: \n",
    "    print(False)"
   ]
  },
  {
   "cell_type": "code",
   "execution_count": 101,
   "metadata": {},
   "outputs": [
    {
     "name": "stdout",
     "output_type": "stream",
     "text": [
      "[('A', 0), ('D', 1), ('C', 2), ('B', 3), ('E', 8)]\n"
     ]
    }
   ],
   "source": [
    "''' \n",
    "Sort ordered dictionary by the values -- ASC\n",
    "'''\n",
    "\n",
    "sorted_by_time = sorted(time_for_node.items(), key = lambda x:x[1])\n",
    "print(sorted_by_time)\n"
   ]
  },
  {
   "cell_type": "code",
   "execution_count": 102,
   "metadata": {},
   "outputs": [
    {
     "name": "stdout",
     "output_type": "stream",
     "text": [
      "defaultdict(<class 'list'>, {0: ['A'], 1: ['D'], 2: ['C'], 3: ['B'], 8: ['E']})\n"
     ]
    }
   ],
   "source": [
    "#create dict of times \n",
    "\n",
    "time_dict = defaultdict(list)\n",
    "\n",
    "for vert, time in sorted_by_time:\n",
    "    time_dict[time].append(vert)\n",
    "    if len(time_dict[time]) > 1: \n",
    "        temp = ''.join(time_dict[time])\n",
    "        time_dict[time] = []\n",
    "        time_dict[time].append(temp)\n",
    "        \n",
    "print(time_dict)\n"
   ]
  },
  {
   "cell_type": "code",
   "execution_count": 92,
   "metadata": {},
   "outputs": [
    {
     "name": "stdout",
     "output_type": "stream",
     "text": [
      "A\n",
      "BCD\n",
      "E\n",
      "FG\n"
     ]
    }
   ],
   "source": [
    "import time \n",
    "\n",
    "starting_time = time.time()\n",
    "\n",
    "for seconds, vertex in time_dict.items():\n",
    "    if round(time.time() - starting_time, 1) >= seconds:\n",
    "        print(vertex[0])\n",
    "    elif round(time.time() - starting_time, 1) < seconds: \n",
    "        time.sleep(seconds - round((time.time()  - starting_time), 1))\n",
    "        print(vertex[0])"
   ]
  },
  {
   "cell_type": "code",
   "execution_count": 69,
   "metadata": {},
   "outputs": [
    {
     "name": "stdout",
     "output_type": "stream",
     "text": [
      "A\n",
      "B\n",
      "C\n",
      "D\n",
      "E\n",
      "F\n",
      "G\n"
     ]
    }
   ],
   "source": [
    "import time\n",
    "import datetime\n",
    "\n",
    "start_time = time.time()\n",
    "\n",
    "for node in sorted_by_time: \n",
    "    if round(time.time() - start_time, 1) >= node[1]:\n",
    "        print(node[0])\n",
    "    elif round((time.time()) - start_time, 1) < node[1]:\n",
    "        time.sleep(node[1] - round((time.time()) - start_time, 1))\n",
    "        print(node[0])\n",
    "    # else: \n",
    "    #     print(node[0])\n",
    "\n"
   ]
  }
 ],
 "metadata": {
  "kernelspec": {
   "display_name": "Python 3",
   "language": "python",
   "name": "python3"
  },
  "language_info": {
   "codemirror_mode": {
    "name": "ipython",
    "version": 3
   },
   "file_extension": ".py",
   "mimetype": "text/x-python",
   "name": "python",
   "nbconvert_exporter": "python",
   "pygments_lexer": "ipython3",
   "version": "3.7.4"
  },
  "orig_nbformat": 4,
  "vscode": {
   "interpreter": {
    "hash": "aee8b7b246df8f9039afb4144a1f6fd8d2ca17a180786b69acc140d282b71a49"
   }
  }
 },
 "nbformat": 4,
 "nbformat_minor": 2
}
