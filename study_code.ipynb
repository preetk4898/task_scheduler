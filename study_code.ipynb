{
 "cells": [
  {
   "attachments": {},
   "cell_type": "markdown",
   "metadata": {},
   "source": [
    "## Final Submitted Code Review"
   ]
  },
  {
   "cell_type": "code",
   "execution_count": 1,
   "metadata": {},
   "outputs": [],
   "source": [
    "from collections import defaultdict\n",
    "import json\n",
    "import sys\n",
    "import time"
   ]
  },
  {
   "cell_type": "code",
   "execution_count": 26,
   "metadata": {},
   "outputs": [],
   "source": [
    "# path = sys.argv[1]\n",
    "\n",
    "path = input(\"Enter path to JSON file or file name:\")\n",
    "with open(path, \"r\") as dag_file: \n",
    "    try: \n",
    "        input_dag = json.loads(dag_file.read()) #make sure the input it properly formated in JSON\n",
    "        # adj_list, root = make_adjacency_list() #make an adjacency list with the input file\n",
    "        \n",
    "        # tasks = TaskRunner(adj_list, root)\n",
    "        # checked_sorted_tasks = check_acylic_sort(adj_list, root) #check if graph is acyclic and make sorted list of tasks\n",
    "\n",
    "        # if checked_sorted_tasks == False:\n",
    "        #     print(\"Task runner can not execute a list of tasks that has circular dependencies.\")\n",
    "        # else: \n",
    "        #     run_tasks(checked_sorted_tasks) #print out the tasks in the appropriate order and time differential\n",
    "\n",
    "    except ValueError as e: \n",
    "        print(f\"JSON file is invalid. Please check input. Error: {e}\")"
   ]
  },
  {
   "cell_type": "code",
   "execution_count": 30,
   "metadata": {},
   "outputs": [
    {
     "name": "stdout",
     "output_type": "stream",
     "text": [
      "{'A': {'start': True, 'edges': {'B': 3, 'C': 2, 'D': 1}}, 'B': {'edges': {'E': 5}}, 'C': {'edges': {'E': 6}}, 'D': {'edges': {'E': 4}}, 'E': {'edges': {'F': 8, 'G': 9}}, 'F': {'edges': {}}, 'G': {'edges': {}}}\n"
     ]
    }
   ],
   "source": [
    "print(input_dag)"
   ]
  },
  {
   "attachments": {},
   "cell_type": "markdown",
   "metadata": {},
   "source": [
    "### Make Adjacency List/Dictionary \n",
    "\n",
    "Formal Definition: a collection of unordered lists used to represent a finite graph. \n",
    "\n",
    "Pros: \n",
    "\n",
    "-Helps find all vertices adjacent to a vertex easily. \n",
    "\n",
    "The input dag from the JSON is basically structured as an adjacency list. I want to clean it up and make it easier to use for downstream functions. "
   ]
  },
  {
   "cell_type": "code",
   "execution_count": 31,
   "metadata": {},
   "outputs": [
    {
     "name": "stdout",
     "output_type": "stream",
     "text": [
      "A\n",
      "B\n",
      "C\n",
      "D\n",
      "E\n",
      "F\n",
      "G\n",
      "Adjacency list: defaultdict(<class 'list'>, {'A': [('B', 3), ('C', 2), ('D', 1)], 'B': [('E', 5)], 'C': [('E', 6)], 'D': [('E', 4)], 'E': [('F', 8), ('G', 9)], 'F': [None], 'G': [None]}) \n",
      "Start Vertex: A\n"
     ]
    }
   ],
   "source": [
    "\n",
    "'''\n",
    "Make a weighted adjacency list with the dict converted from the json input.\n",
    "'''\n",
    "adj_list = defaultdict(list)\n",
    "start_node = ''\n",
    "\n",
    "for key in input_dag:\n",
    "    if len(input_dag[key]) == 2: #with the assumption that there is only one start node specified, the length of that key will be 2\n",
    "        start_node = key \n",
    "    \n",
    "    if input_dag[key]['edges'] != {}: #for verices that have children/dependent tasks\n",
    "        for nested_key, nested_value in input_dag[key]['edges'].items():\n",
    "            adj_list[key].append((nested_key, nested_value)) #add weights and edges of the children in the form of a tuple \n",
    "    else: \n",
    "        adj_list[key].append(None) #if there are no children, assign the edges NoneType\n",
    "\n",
    "print(f\"Adjacency list: {adj_list}\", f\"\\nStart Vertex: {start_node}\")\n",
    "# return adj_list, start_node"
   ]
  },
  {
   "cell_type": "code",
   "execution_count": 34,
   "metadata": {},
   "outputs": [
    {
     "name": "stdout",
     "output_type": "stream",
     "text": [
      "Vertex: A\n",
      "In [('B', 3), ('C', 2), ('D', 1)]\n",
      "In [('B', 3), ('C', 2), ('D', 1)]\n",
      "In [('B', 3), ('C', 2), ('D', 1)]\n",
      "Vertex: B\n",
      "In [('E', 5)]\n",
      "Vertex: C\n",
      "In [('E', 6)]\n",
      "Vertex: D\n",
      "In [('E', 4)]\n",
      "Vertex: E\n",
      "In [('F', 8), ('G', 9)]\n",
      "In [('F', 8), ('G', 9)]\n",
      "Vertex: F\n",
      "In [None]\n",
      "Vertex: G\n",
      "In [None]\n"
     ]
    }
   ],
   "source": [
    "''' \n",
    "Determine whether there are cycles in the DAG using a BFS traversal approach and populate/sort a dictioanary \n",
    "with the nodes and the order and time in which they will be printed. I would consider this pre-processing.\n",
    "'''\n",
    "num_incoming_vert = defaultdict(int) #create a dictionary to track the number of dependencies of each task \n",
    "visited = defaultdict(bool) #create dictionary to ensure all vertices are visited\n",
    "\n",
    "for vertex in adj_list.keys():\n",
    "    num_incoming_vert[vertex] #populate the dict\n",
    "    visited[vertex]\n",
    "\n",
    "for vertex in adj_list.keys():\n",
    "    print(f\"Vertex: {vertex}\")\n",
    "    for inc_edge in adj_list[vertex]: #iterate through the dependents of a task. adj_list[vertex] is the list of tuples for the vertex\n",
    "        print(f\"In {adj_list[vertex]}\")\n",
    "        if inc_edge != None:\n",
    "            num_incoming_vert[inc_edge[0]] += 1 #if a dependent shows up in the adjacency, increment it's number of dependencies by 1\n",
    "        else: \n",
    "            pass"
   ]
  },
  {
   "cell_type": "code",
   "execution_count": 19,
   "metadata": {},
   "outputs": [],
   "source": [
    "queue = []\n",
    "queue.append(start_node) #build queue and append the start node. \n",
    "time_for_node = defaultdict(int) #record time for each node\n",
    "time_for_node[start_node]\n",
    "\n",
    "#populate the queue with any other tasks that dont have any dependences \n",
    "for node in num_incoming_vert: \n",
    "    if num_incoming_vert[node] == 0 and not start_node:\n",
    "        queue.append(node)\n",
    "\n",
    "#start working through the queue to determine if there are any cycles \n",
    "\n",
    "while(queue):\n",
    "    current_node = queue.pop(0) #FIFO approach \n",
    "\n",
    "    #if all vertices in queue have been visited and if the vertex doesn't have any dependents, pop it from the queue\n",
    "    if adj_list[current_node] == [None] and num_incoming_vert[current_node] == 0:\n",
    "        visited[current_node] = True\n",
    "    elif visited[current_node] == False: #if the vert has dependents, cycle through all of them and update the number of incoming verts by 1 bc they have now been visited\n",
    "        for vert,weight in adj_list[current_node]:\n",
    "            for node in vert: \n",
    "                num_incoming_vert[node[0]] -= 1\n",
    "                time_for_node[node[0]] = time_for_node[current_node] + weight #populate the dict with the time a node will be printed\n",
    "            if num_incoming_vert[node[0]] == 0: \n",
    "                queue.append(node[0])\n",
    "\n",
    "            visited[current_node] = True\n",
    "\n",
    "check = len(set(visited.values())) == True\n",
    "\n",
    "if check == False: #the number of visited vertices has to be equal to the number of vertices in the task runner for it to be acyclic. \n",
    "    print(False)\n",
    "else: \n",
    "    sorted_tasks = sorted(time_for_node.items(), key = lambda x:x[1]) #sort the time dict in ASC\n",
    "    print(sorted_tasks)"
   ]
  },
  {
   "cell_type": "code",
   "execution_count": 20,
   "metadata": {},
   "outputs": [],
   "source": [
    "start_time = time.time() #Time starts now!! \n",
    "\n",
    "for node in sorted_tasks: \n",
    "    if round(time.time() - start_time, 1) >= node[1]: #check if the time elapsed is equal to the time of the given node\n",
    "        print(node[0])\n",
    "    elif round(time.time() - start_time, 1) < node[1]: #if the right amount of time has not been elapsed, wait \n",
    "        time.sleep(node[1] - round(time.time() - start_time, 1))\n",
    "        print(node[0])"
   ]
  },
  {
   "cell_type": "code",
   "execution_count": null,
   "metadata": {},
   "outputs": [],
   "source": []
  }
 ],
 "metadata": {
  "kernelspec": {
   "display_name": "Python 3",
   "language": "python",
   "name": "python3"
  },
  "language_info": {
   "codemirror_mode": {
    "name": "ipython",
    "version": 3
   },
   "file_extension": ".py",
   "mimetype": "text/x-python",
   "name": "python",
   "nbconvert_exporter": "python",
   "pygments_lexer": "ipython3",
   "version": "3.7.4"
  },
  "orig_nbformat": 4,
  "vscode": {
   "interpreter": {
    "hash": "aee8b7b246df8f9039afb4144a1f6fd8d2ca17a180786b69acc140d282b71a49"
   }
  }
 },
 "nbformat": 4,
 "nbformat_minor": 2
}
