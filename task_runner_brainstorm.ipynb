{
 "cells": [
  {
   "attachments": {},
   "cell_type": "markdown",
   "metadata": {},
   "source": [
    "# Bighat Biosciences\n",
    "## Take Home Technical Screen\n",
    "\n",
    "---"
   ]
  },
  {
   "attachments": {},
   "cell_type": "markdown",
   "metadata": {},
   "source": [
    "# Task Runner \n",
    "\n",
    "Written by Preet Kaur \n",
    "\n",
    "Resources used: \n",
    "- Stackover Flow \n",
    "- Geeks for Geeks\n",
    "\n",
    "---"
   ]
  },
  {
   "attachments": {},
   "cell_type": "markdown",
   "metadata": {},
   "source": [
    "### Import json file"
   ]
  },
  {
   "cell_type": "code",
   "execution_count": 34,
   "metadata": {},
   "outputs": [],
   "source": [
    "import json\n",
    "from collections import defaultdict\n",
    "\n",
    "file_path = input(\"Enter path to JSON file or file name:\")\n",
    "\n",
    "with open(file_path, \"r\") as dag_file: \n",
    "    dag_dict = json.loads(dag_file.read())"
   ]
  },
  {
   "cell_type": "code",
   "execution_count": 68,
   "metadata": {},
   "outputs": [],
   "source": [
    "def iterate_nested_dict(dag_dict, search_start = False):\n",
    "    if isinstance(dag_dict, dict) and search_start == False:\n",
    "        for key in dag_dict: \n",
    "            if dag_dict[key] == {}:\n",
    "                dag_dict[key] = None    \n",
    "            else:\n",
    "                iterate_nested_dict(dag_dict[key])\n",
    "        return dag_dict\n",
    "    elif search_start == True:\n",
    "        if isinstance(dag_dict, dict):\n",
    "            for key, value in dag_dict.items():\n",
    "                print(key) \n",
    "                    # if dag_dict[key] == 'start':\n",
    "                    #     print(dag_dict[key])\n",
    "                    #     return dag_dict[key]\n",
    "                    # else: \n",
    "                iterate_nested_dict(dag_dict[key], search_start= True)\n",
    "\n",
    "\n",
    "        # else:\n",
    "        #      for key in dag_dict:\n",
    "        #         if dag_dict[key] == search_value:\n",
    "        #             return dag_dict[key]"
   ]
  },
  {
   "cell_type": "code",
   "execution_count": 44,
   "metadata": {},
   "outputs": [
    {
     "name": "stdout",
     "output_type": "stream",
     "text": [
      "{'A': {'start': True, 'edges': {'B': 2, 'C': 5, 'D': 7}}, 'B': {'edges': {'E': 3}}, 'C': {'edges': {'E': 1}}, 'D': {'edges': None}, 'E': {'edges': None}}\n"
     ]
    }
   ],
   "source": [
    "dag_dict = iterate_nested_dict(dag_dict)\n",
    "print(dag_dict)"
   ]
  },
  {
   "cell_type": "code",
   "execution_count": 69,
   "metadata": {},
   "outputs": [
    {
     "name": "stdout",
     "output_type": "stream",
     "text": [
      "A\n",
      "start\n",
      "edges\n",
      "B\n",
      "C\n",
      "D\n",
      "B\n",
      "edges\n",
      "E\n",
      "C\n",
      "edges\n",
      "E\n",
      "D\n",
      "edges\n",
      "E\n",
      "edges\n",
      "None\n"
     ]
    }
   ],
   "source": [
    "start_vertex = iterate_nested_dict(dag_dict, search_start = True)\n",
    "print(start_vertex)"
   ]
  },
  {
   "cell_type": "code",
   "execution_count": 77,
   "metadata": {},
   "outputs": [
    {
     "name": "stdout",
     "output_type": "stream",
     "text": [
      "A\n"
     ]
    }
   ],
   "source": [
    "# how to find the start node. we make the assumption that the start node is the only node that will have a dict len of 2\n",
    "\n",
    "for key in dag_dict:\n",
    "    if len(dag_dict[key]) == 2: \n",
    "        print(key)"
   ]
  },
  {
   "attachments": {},
   "cell_type": "markdown",
   "metadata": {},
   "source": [
    "### Make the dag into an adjacency list"
   ]
  },
  {
   "cell_type": "code",
   "execution_count": null,
   "metadata": {},
   "outputs": [],
   "source": []
  }
 ],
 "metadata": {
  "kernelspec": {
   "display_name": "Python 3",
   "language": "python",
   "name": "python3"
  },
  "language_info": {
   "codemirror_mode": {
    "name": "ipython",
    "version": 3
   },
   "file_extension": ".py",
   "mimetype": "text/x-python",
   "name": "python",
   "nbconvert_exporter": "python",
   "pygments_lexer": "ipython3",
   "version": "3.7.4"
  },
  "orig_nbformat": 4,
  "vscode": {
   "interpreter": {
    "hash": "aee8b7b246df8f9039afb4144a1f6fd8d2ca17a180786b69acc140d282b71a49"
   }
  }
 },
 "nbformat": 4,
 "nbformat_minor": 2
}
